{
 "cells": [
  {
   "cell_type": "code",
   "execution_count": 1,
   "id": "9bf04518",
   "metadata": {},
   "outputs": [
    {
     "name": "stdout",
     "output_type": "stream",
     "text": [
      "Hello PJ\n"
     ]
    }
   ],
   "source": [
    "x = \"Hello PJ\"\n",
    "print(x)"
   ]
  },
  {
   "cell_type": "code",
   "execution_count": 2,
   "id": "3dad2cdc",
   "metadata": {},
   "outputs": [],
   "source": [
    "import numpy as np\n"
   ]
  },
  {
   "cell_type": "code",
   "execution_count": 3,
   "id": "b891b062",
   "metadata": {},
   "outputs": [],
   "source": [
    "def NearZero(z):\n",
    "    return abs(z) < 1e-5\n",
    "    \n",
    "# NearZero(1e-6)"
   ]
  },
  {
   "cell_type": "code",
   "execution_count": 4,
   "id": "d33e0c49",
   "metadata": {},
   "outputs": [],
   "source": [
    "def normalize(V):\n",
    "    V = np.array([1, 2, 3])\n",
    "    return V/ np.linalg.norm(V)\n",
    "\n",
    "# normalize([3, 2, 1])"
   ]
  },
  {
   "cell_type": "code",
   "execution_count": 5,
   "id": "f03c9d4f",
   "metadata": {},
   "outputs": [
    {
     "data": {
      "text/plain": [
       "array([[1, 1, 1],\n",
       "       [2, 2, 2],\n",
       "       [3, 3, 3]])"
      ]
     },
     "execution_count": 5,
     "metadata": {},
     "output_type": "execute_result"
    }
   ],
   "source": [
    "def RotInv(R):\n",
    "    return (R).T\n",
    "R = np.array([[1, 2, 3],\n",
    "              [1, 2, 3],\n",
    "              [1, 2, 3]])\n",
    "RotInv(R)"
   ]
  },
  {
   "cell_type": "code",
   "execution_count": 6,
   "id": "ac451814",
   "metadata": {},
   "outputs": [
    {
     "data": {
      "text/plain": [
       "array([[ 0, -3,  2],\n",
       "       [ 3,  0, -1],\n",
       "       [-2,  1,  0]])"
      ]
     },
     "execution_count": 6,
     "metadata": {},
     "output_type": "execute_result"
    }
   ],
   "source": [
    "# this is helping in writing the 3x3 matrix from the vector omega\n",
    "def matrixomg(omg):\n",
    "    # omg = np.array([1, 2, 3])\n",
    "    return np.array([[0,     -omg[2],   omg[1]],\n",
    "                     [omg[2],  0,      -omg[0]],\n",
    "                     [-omg[1],  omg[0],      0]])\n",
    "\n",
    "omg = np.array([1, 2, 3])\n",
    "matrixomg(omg)"
   ]
  },
  {
   "cell_type": "code",
   "execution_count": 7,
   "id": "2a2bd38c",
   "metadata": {},
   "outputs": [
    {
     "data": {
      "text/plain": [
       "array([1, 2, 3])"
      ]
     },
     "execution_count": 7,
     "metadata": {},
     "output_type": "execute_result"
    }
   ],
   "source": [
    "# this will help in writing the vector omega from the 3x3 matrix\n",
    "def vecomg(matomg):\n",
    "    return np.array([matomg[2][1], matomg[0][2], matomg[1][0]])\n",
    "\n",
    "matomg = np.array([[0, -3, 2],\n",
    "                   [3, 0, -1],\n",
    "                   [-2, 1, 0]])\n",
    "\n",
    "vecomg(matomg)"
   ]
  },
  {
   "cell_type": "code",
   "execution_count": 8,
   "id": "7afd3ede",
   "metadata": {},
   "outputs": [
    {
     "data": {
      "text/plain": [
       "(array([0.26726124, 0.53452248, 0.80178373]), np.float64(3.7416573867739413))"
      ]
     },
     "execution_count": 8,
     "metadata": {},
     "output_type": "execute_result"
    }
   ],
   "source": [
    "# this will give the omega vector and theta \n",
    "\n",
    "def omgtheta(value):\n",
    "    return (normalize(value), np.linalg.norm(value))\n",
    "\n",
    "value = np.array([1, 2, 3])\n",
    "omgtheta(value)"
   ]
  },
  {
   "cell_type": "code",
   "execution_count": 9,
   "id": "175f305d",
   "metadata": {},
   "outputs": [
    {
     "data": {
      "text/plain": [
       "array([[-0.69492056,  0.71352099,  0.08929286],\n",
       "       [-0.19200697, -0.30378504,  0.93319235],\n",
       "       [ 0.69297817,  0.6313497 ,  0.34810748]])"
      ]
     },
     "execution_count": 9,
     "metadata": {},
     "output_type": "execute_result"
    }
   ],
   "source": [
    "#  finding the roation matrix from the omega matrix \n",
    "\n",
    "def rotmat(omegamat, theta):    \n",
    "    return np.array(np.eye(3) + np.sin(theta)*omegamat + (1-np.cos(theta))*np.dot(omegamat, omegamat))\n",
    "\n",
    "threexthreemat = np.array([[0, -3, 2],\n",
    "                     [3, 0, -1],\n",
    "                     [-2, 1, 0]])\n",
    "\n",
    "vectoromg = vecomg(threexthreemat)\n",
    "theta = omgtheta(vectoromg)[1]\n",
    "omegamat = threexthreemat / theta\n",
    "\n",
    "\n",
    "rotmat(omegamat, theta)"
   ]
  },
  {
   "cell_type": "markdown",
   "id": "1a6d96cf",
   "metadata": {},
   "source": []
  },
  {
   "cell_type": "code",
   "execution_count": 10,
   "id": "c75a7c3d",
   "metadata": {},
   "outputs": [
    {
     "data": {
      "text/plain": [
       "array([[ 0.        , -0.        ,  2.22144147],\n",
       "       [ 0.        ,  0.        , -2.22144147],\n",
       "       [-2.22144147,  2.22144147,  0.        ]])"
      ]
     },
     "execution_count": 10,
     "metadata": {},
     "output_type": "execute_result"
    }
   ],
   "source": [
    "import numpy as np\n",
    "def matrixlog(R):\n",
    "    import numpy as np;\n",
    "    acosinput = (np.trace(R)-1) / 2.0\n",
    "    if acosinput >=1:\n",
    "        return np.zeros((3, 3))\n",
    "    elif acosinput <1:\n",
    "        if not NearZero(1+R[2][2]):\n",
    "            omg = (1.0 / np.sqrt(2 *(1+R[2][2])) * np.array([R[0][2], R[1][2], 1 + R[2][2]]))\n",
    "        if not NearZero(1+R[1][1]):\n",
    "            omg = (1.0 / np.sqrt(2 *(1+R[1][1])) * np.array([R[0][1], 1 + R[1][1], R[2][1]]))\n",
    "        if not NearZero(1+R[0][0]):\n",
    "            omg = (1.0 / np.sqrt(2 * (1+R[0][0])) * np.array([1 + R[0][0], R[1][0], R[2][0]]))\n",
    "        return matrixomg(np.pi * omg )\n",
    "\n",
    "        \n",
    "R = np.array([[0, 0, 1],\n",
    "              [1, 0, 0],\n",
    "              [0, 1, 0]])\n",
    "matrixlog(R)\n",
    "\n",
    "\n",
    "\n",
    "# np.array([[          0, -1.20919958,  1.20919958],\n",
    "#           [ 1.20919958,           0, -1.20919958],\n",
    "#           [-1.20919958,  1.20919958,           0]])"
   ]
  },
  {
   "cell_type": "code",
   "execution_count": 11,
   "id": "6fd9073f",
   "metadata": {},
   "outputs": [
    {
     "data": {
      "text/plain": [
       "array([[0, 0, 1, 1],\n",
       "       [1, 0, 0, 2],\n",
       "       [0, 1, 0, 3],\n",
       "       [0, 0, 0, 1]])"
      ]
     },
     "execution_count": 11,
     "metadata": {},
     "output_type": "execute_result"
    }
   ],
   "source": [
    "# creating the transformation matrix from rotation and position matrix.\n",
    "def tfmat(Rot, pos):\n",
    "    return np.r_[np.c_[Rot, pos], [[0, 0, 0, 1]]]      \n",
    "\n",
    "Rot = np.array([[0, 0, 1],\n",
    "                [1, 0, 0],\n",
    "                [0, 1, 0]])\n",
    "\n",
    "pos = np.array([1, 2, 3])\n",
    "tfmat(Rot, pos)\n",
    "\n",
    "\n",
    "\n",
    "# np.c_[Rot, pos]\n",
    "# This horizontally concatenates the Rot matrix with the pos column vector:\n",
    "\n",
    "# np.c_[Rot, pos]\n",
    "\n",
    "# [[R11, R12, R13, px],\n",
    "#  [R21, R22, R23, py],\n",
    "#  [R31, R32, R33, pz]]\n",
    "# ---------------------------------------------------------------\n",
    "# np.r_[ ..., [[0, 0, 0, 1]] ]\n",
    "# This vertically stacks the above 3×4 matrix with a row [0, 0, 0, 1]:\n",
    "\n",
    "# Result:\n",
    "\n",
    "# [[R11, R12, R13, px],\n",
    "#  [R21, R22, R23, py],\n",
    "#  [R31, R32, R33, pz],\n",
    "#  [  0,   0,   0,  1]]"
   ]
  },
  {
   "cell_type": "code",
   "execution_count": 12,
   "id": "1054950b",
   "metadata": {},
   "outputs": [
    {
     "data": {
      "text/plain": [
       "(array([[0, 0, 1],\n",
       "        [1, 0, 0],\n",
       "        [0, 1, 0]]),\n",
       " array([1, 2, 3]))"
      ]
     },
     "execution_count": 12,
     "metadata": {},
     "output_type": "execute_result"
    }
   ],
   "source": [
    "def Rotpos(tfmat):\n",
    "    return tfmat[0:3, 0:3], tfmat[0:3, 3]\n",
    "\n",
    "tfmat = np.array([[0, 0, 1, 1],\n",
    "                  [1, 0, 0, 2],\n",
    "                  [0, 1, 0, 3],\n",
    "                  [0, 0, 0, 1]])\n",
    "Rotpos(tfmat)\n",
    "# Rot, pos = Rotpos(tfmat)\n"
   ]
  },
  {
   "cell_type": "code",
   "execution_count": 13,
   "id": "c003f75d",
   "metadata": {},
   "outputs": [
    {
     "data": {
      "text/plain": [
       "array([[ 1,  0,  0,  0],\n",
       "       [ 0,  0,  1, -3],\n",
       "       [ 0, -1,  0,  0],\n",
       "       [ 0,  0,  0,  1]])"
      ]
     },
     "execution_count": 13,
     "metadata": {},
     "output_type": "execute_result"
    }
   ],
   "source": [
    "# defining the inverse of homogenous transformation matrix \n",
    "def Invtfmat(tfmat):\n",
    "    return np.r_[np.c_[Rotinv, -np.dot(Rotinv,pos)], [[0, 0, 0, 1]]]\n",
    "\n",
    "tfmat = np.array([[1,  0,  0,  0],\n",
    "                  [0,  0, -1,  0],\n",
    "                  [0,  1,  0,  3],\n",
    "                  [0,  0,  0,  1]])\n",
    "Rot, pos = Rotpos(tfmat)\n",
    "Rotinv = np.array(Rot).T\n",
    "# print(pos)\n",
    "Invtfmat(tfmat)"
   ]
  },
  {
   "cell_type": "code",
   "execution_count": 14,
   "id": "6d69aa58",
   "metadata": {},
   "outputs": [
    {
     "data": {
      "text/plain": [
       "array([[ 0., -3.,  2.,  4.],\n",
       "       [ 3.,  0., -1.,  5.],\n",
       "       [-2.,  1.,  0.,  6.],\n",
       "       [ 0.,  0.,  0.,  0.]])"
      ]
     },
     "execution_count": 14,
     "metadata": {},
     "output_type": "execute_result"
    }
   ],
   "source": [
    "# defining the se3 matrix from the 4x4 mat\n",
    "def vectose3(vec):\n",
    "    return np.r_[np.c_[matrixomg([vec[0], vec[1], vec[2]]), [vec[3], vec[4], vec[5]]], np.zeros((1,4))]\n",
    "\n",
    "vec = np.array([1, 2, 3, 4, 5, 6])\n",
    "vectose3(vec)"
   ]
  },
  {
   "cell_type": "code",
   "execution_count": 15,
   "id": "1686da11",
   "metadata": {},
   "outputs": [
    {
     "data": {
      "text/plain": [
       "array([1, 2, 3, 4, 5, 6])"
      ]
     },
     "execution_count": 15,
     "metadata": {},
     "output_type": "execute_result"
    }
   ],
   "source": [
    "#  defining the 4x4 matrix from se3 matrix\n",
    "def se3tovec(vecmat):\n",
    "    return np.array([vecmat[2][1], vecmat[0][2], vecmat[1][0], vecmat[0][3], vecmat[1][3], vecmat[2][3]])\n",
    "\n",
    "vecmat = np.array([[ 0, -3,  2,  4],\n",
    "                   [ 3,  0, -1,  5],\n",
    "                   [-2,  1,  0,  6],\n",
    "                   [ 0,  0,  0,  0]])\n",
    "\n",
    "se3tovec(vecmat)"
   ]
  },
  {
   "cell_type": "code",
   "execution_count": 16,
   "id": "83ba0486",
   "metadata": {},
   "outputs": [
    {
     "data": {
      "text/plain": [
       "array([[ 1.,  0.,  0.,  0.,  0.,  0.],\n",
       "       [ 0.,  0., -1.,  0.,  0.,  0.],\n",
       "       [ 0.,  1.,  0.,  0.,  0.,  0.],\n",
       "       [ 0.,  0.,  3.,  1.,  0.,  0.],\n",
       "       [ 3.,  0.,  0.,  0.,  0., -1.],\n",
       "       [ 0.,  0.,  0.,  0.,  1.,  0.]])"
      ]
     },
     "execution_count": 16,
     "metadata": {},
     "output_type": "execute_result"
    }
   ],
   "source": [
    "# finding the adjoint of the transformation matrix \n",
    "def Adj(transmatrix):\n",
    "    return np.r_[np.c_[Rot, np.zeros((3, 3))], np.c_[np.dot(matrixomg(pos), Rot), Rot]]\n",
    "\n",
    "transmatrix = np.array([[1,  0,  0,  0],\n",
    "                        [0,  0, -1,  0],\n",
    "                        [0,  1,  0,  3],\n",
    "                        [0,  0,  0,  1]])\n",
    "Rot, pos = Rotpos(transmatrix)\n",
    "\n",
    "Adj(transmatrix)\n"
   ]
  },
  {
   "cell_type": "code",
   "execution_count": 20,
   "id": "d599f3c4",
   "metadata": {},
   "outputs": [
    {
     "data": {
      "text/plain": [
       "array([ 0,  0,  1,  0, -3,  2])"
      ]
     },
     "execution_count": 20,
     "metadata": {},
     "output_type": "execute_result"
    }
   ],
   "source": [
    "def screwaxistovector(q,s,h):\n",
    "    return np.r_[s, (np.cross(q,s) + np.dot(h,s))]\n",
    "\n",
    "q = np.array([3,0,0])\n",
    "s = np.array([0,0,1])\n",
    "h = 2\n",
    "\n",
    "screwaxistovector(q,s,h)\n"
   ]
  },
  {
   "cell_type": "code",
   "execution_count": 39,
   "id": "3850d5bc",
   "metadata": {},
   "outputs": [
    {
     "data": {
      "text/plain": [
       "(array([1., 0., 0., 1., 2., 3.]), np.float64(1.0))"
      ]
     },
     "execution_count": 39,
     "metadata": {},
     "output_type": "execute_result"
    }
   ],
   "source": [
    "def screwtheta(screwaxis):\n",
    "    theta1 = np.linalg.norm([screwaxis[0], screwaxis[1], screwaxis[2]])\n",
    "    \n",
    "    if NearZero(theta1):\n",
    "        theta1 = np.linalg.norm([screwaxis[3], screwaxis[4], screwaxis[6]])\n",
    "    return (np.array(screwaxis/theta1), theta1)\n",
    "\n",
    "screwaxis = np.array([1,0,0,1,2,3])\n",
    "# theta1 = np.linalg.norm([screwaxis[0], screwaxis[1], screwaxis[2]])\n",
    "screwtheta(screwaxis)"
   ]
  }
 ],
 "metadata": {
  "kernelspec": {
   "display_name": "Python 3",
   "language": "python",
   "name": "python3"
  },
  "language_info": {
   "codemirror_mode": {
    "name": "ipython",
    "version": 3
   },
   "file_extension": ".py",
   "mimetype": "text/x-python",
   "name": "python",
   "nbconvert_exporter": "python",
   "pygments_lexer": "ipython3",
   "version": "3.12.5"
  }
 },
 "nbformat": 4,
 "nbformat_minor": 5
}
